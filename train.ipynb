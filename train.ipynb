{
 "cells": [
  {
   "cell_type": "markdown",
   "metadata": {
    "colab_type": "text",
    "id": "d2mAkgRjwwuf"
   },
   "source": [
    "## Training"
   ]
  },
  {
   "cell_type": "markdown",
   "metadata": {},
   "source": [
    "### train renderer"
   ]
  },
  {
   "cell_type": "code",
   "execution_count": 9,
   "metadata": {},
   "outputs": [
    {
     "name": "stdout",
     "output_type": "stream",
     "text": [
      "0 0.25052136182785034\n",
      "saved model\n",
      "1 0.2505183815956116\n",
      "2 0.25041890144348145\n",
      "3 0.25031933188438416\n",
      "4 0.25021976232528687\n",
      "5 0.2501201629638672\n",
      "6 0.2500205934047699\n",
      "^C\n",
      "Traceback (most recent call last):\n",
      "  File \"baseline/train_renderer.py\", line 62, in <module>\n",
      "    gt = torch.tensor(gt).float()\n",
      "KeyboardInterrupt\n"
     ]
    }
   ],
   "source": [
    "!python baseline/train_renderer.py\n",
    "# !tensorboard --logdir train_log --port=6006"
   ]
  },
  {
   "cell_type": "markdown",
   "metadata": {},
   "source": [
    "### train RL\n",
    "\n",
    "* make data available"
   ]
  },
  {
   "cell_type": "code",
   "execution_count": 10,
   "metadata": {},
   "outputs": [
    {
     "name": "stdout",
     "output_type": "stream",
     "text": [
      "mkdir: cannot create directory './model': File exists\n",
      "Renderer model loaded.\n",
      "observation_space (96, 128, 128, 7) action_space 13\n",
      "0\n",
      "1\n",
      "2\n",
      "3\n",
      "4\n",
      "^C\n",
      "Traceback (most recent call last):\n",
      "  File \"baseline/train.py\", line 191, in <module>\n",
      "    train(agent, fenv, evaluate)\n",
      "  File \"baseline/train.py\", line 41, in train\n",
      "    action = agent.select_action(observation, noise_factor=noise_factor)\n",
      "  File \"/notebooks/learingtopaint/baseline/DRL/ddpg.py\", line 214, in select_action\n",
      "    action = self.play(state)\n",
      "  File \"/notebooks/learingtopaint/baseline/DRL/ddpg.py\", line 116, in play\n",
      "    o = self.actor(state)\n",
      "  File \"/miniconda/envs/py36/lib/python3.6/site-packages/torch/nn/modules/module.py\", line 493, in __call__\n",
      "    result = self.forward(*input, **kwargs)\n",
      "  File \"/notebooks/learingtopaint/baseline/DRL/actor.py\", line 108, in forward\n",
      "    x = self.layer3(x)\n",
      "  File \"/miniconda/envs/py36/lib/python3.6/site-packages/torch/nn/modules/module.py\", line 493, in __call__\n",
      "    result = self.forward(*input, **kwargs)\n",
      "  File \"/miniconda/envs/py36/lib/python3.6/site-packages/torch/nn/modules/container.py\", line 92, in forward\n",
      "    input = module(input)\n",
      "  File \"/miniconda/envs/py36/lib/python3.6/site-packages/torch/nn/modules/module.py\", line 493, in __call__\n",
      "    result = self.forward(*input, **kwargs)\n",
      "  File \"/notebooks/learingtopaint/baseline/DRL/actor.py\", line 45, in forward\n",
      "    out = F.relu(self.bn1(self.conv1(x)))\n",
      "  File \"/miniconda/envs/py36/lib/python3.6/site-packages/torch/nn/modules/module.py\", line 493, in __call__\n",
      "    result = self.forward(*input, **kwargs)\n",
      "  File \"/miniconda/envs/py36/lib/python3.6/site-packages/torch/nn/modules/conv.py\", line 338, in forward\n",
      "    self.padding, self.dilation, self.groups)\n",
      "KeyboardInterrupt\n"
     ]
    }
   ],
   "source": [
    "!python baseline/train.py --max_step=40 --debug --batch_size=12"
   ]
  }
 ],
 "metadata": {
  "accelerator": "GPU",
  "colab": {
   "include_colab_link": true,
   "name": "learningtopaint.ipynb",
   "provenance": [],
   "version": "0.3.2"
  },
  "kernelspec": {
   "display_name": "Python 3",
   "language": "python",
   "name": "python3"
  },
  "language_info": {
   "codemirror_mode": {
    "name": "ipython",
    "version": 3
   },
   "file_extension": ".py",
   "mimetype": "text/x-python",
   "name": "python",
   "nbconvert_exporter": "python",
   "pygments_lexer": "ipython3",
   "version": "3.6.7"
  }
 },
 "nbformat": 4,
 "nbformat_minor": 1
}
